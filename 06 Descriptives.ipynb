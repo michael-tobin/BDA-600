{
 "cells": [
  {
   "cell_type": "code",
   "execution_count": 1,
   "metadata": {},
   "outputs": [],
   "source": [
    "import pandas as pd\n",
    "from matplotlib import pyplot as plt"
   ]
  },
  {
   "cell_type": "code",
   "execution_count": 2,
   "metadata": {},
   "outputs": [],
   "source": [
    "weather = pd.read_csv('Data/Weather/Stations-Observations Merged-Converted-with FIPS/NOAA_daily_weather_observations_with_stations_2020_to_2022_converted_with_FIPS.csv')\n",
    "weather['DATE']=pd.to_datetime(weather['DATE'], format='%Y%m%d')\n",
    "max_temps=weather[weather['ELEMENT']=='TMAX_F']\n",
    "min_temps=weather[weather['ELEMENT']=='TMIN_F']\n",
    "temps= pd.concat((max_temps, min_temps), ignore_index=True)\n",
    "temps = temps.sort_values(['ID','DATE'], ignore_index=True)\n"
   ]
  },
  {
   "cell_type": "code",
   "execution_count": 4,
   "metadata": {},
   "outputs": [
    {
     "data": {
      "text/html": [
       "<div>\n",
       "<style scoped>\n",
       "    .dataframe tbody tr th:only-of-type {\n",
       "        vertical-align: middle;\n",
       "    }\n",
       "\n",
       "    .dataframe tbody tr th {\n",
       "        vertical-align: top;\n",
       "    }\n",
       "\n",
       "    .dataframe thead th {\n",
       "        text-align: right;\n",
       "    }\n",
       "</style>\n",
       "<table border=\"1\" class=\"dataframe\">\n",
       "  <thead>\n",
       "    <tr style=\"text-align: right;\">\n",
       "      <th></th>\n",
       "      <th>ID</th>\n",
       "      <th>DATE</th>\n",
       "      <th>ELEMENT</th>\n",
       "      <th>DATA_VALUE</th>\n",
       "      <th>LATITUTDE</th>\n",
       "      <th>LONGITUDE</th>\n",
       "      <th>ELEVATION</th>\n",
       "      <th>STATE_x</th>\n",
       "      <th>NAME</th>\n",
       "      <th>COUNTY</th>\n",
       "      <th>FIPS</th>\n",
       "      <th>STATE_y</th>\n",
       "    </tr>\n",
       "  </thead>\n",
       "  <tbody>\n",
       "    <tr>\n",
       "      <th>0</th>\n",
       "      <td>USC00040136</td>\n",
       "      <td>2020-01-01</td>\n",
       "      <td>TMAX_F</td>\n",
       "      <td>62.96</td>\n",
       "      <td>32.8358</td>\n",
       "      <td>-116.7775</td>\n",
       "      <td>516.6</td>\n",
       "      <td>CA</td>\n",
       "      <td>Alpine</td>\n",
       "      <td>San Diego</td>\n",
       "      <td>6073</td>\n",
       "      <td>CA</td>\n",
       "    </tr>\n",
       "    <tr>\n",
       "      <th>1</th>\n",
       "      <td>USC00040136</td>\n",
       "      <td>2020-01-01</td>\n",
       "      <td>TMIN_F</td>\n",
       "      <td>39.92</td>\n",
       "      <td>32.8358</td>\n",
       "      <td>-116.7775</td>\n",
       "      <td>516.6</td>\n",
       "      <td>CA</td>\n",
       "      <td>Alpine</td>\n",
       "      <td>San Diego</td>\n",
       "      <td>6073</td>\n",
       "      <td>CA</td>\n",
       "    </tr>\n",
       "    <tr>\n",
       "      <th>2</th>\n",
       "      <td>USC00040136</td>\n",
       "      <td>2020-01-02</td>\n",
       "      <td>TMAX_F</td>\n",
       "      <td>62.96</td>\n",
       "      <td>32.8358</td>\n",
       "      <td>-116.7775</td>\n",
       "      <td>516.6</td>\n",
       "      <td>CA</td>\n",
       "      <td>Alpine</td>\n",
       "      <td>San Diego</td>\n",
       "      <td>6073</td>\n",
       "      <td>CA</td>\n",
       "    </tr>\n",
       "    <tr>\n",
       "      <th>3</th>\n",
       "      <td>USC00040136</td>\n",
       "      <td>2020-01-02</td>\n",
       "      <td>TMIN_F</td>\n",
       "      <td>41.00</td>\n",
       "      <td>32.8358</td>\n",
       "      <td>-116.7775</td>\n",
       "      <td>516.6</td>\n",
       "      <td>CA</td>\n",
       "      <td>Alpine</td>\n",
       "      <td>San Diego</td>\n",
       "      <td>6073</td>\n",
       "      <td>CA</td>\n",
       "    </tr>\n",
       "    <tr>\n",
       "      <th>4</th>\n",
       "      <td>USC00040136</td>\n",
       "      <td>2020-01-03</td>\n",
       "      <td>TMAX_F</td>\n",
       "      <td>68.00</td>\n",
       "      <td>32.8358</td>\n",
       "      <td>-116.7775</td>\n",
       "      <td>516.6</td>\n",
       "      <td>CA</td>\n",
       "      <td>Alpine</td>\n",
       "      <td>San Diego</td>\n",
       "      <td>6073</td>\n",
       "      <td>CA</td>\n",
       "    </tr>\n",
       "    <tr>\n",
       "      <th>...</th>\n",
       "      <td>...</td>\n",
       "      <td>...</td>\n",
       "      <td>...</td>\n",
       "      <td>...</td>\n",
       "      <td>...</td>\n",
       "      <td>...</td>\n",
       "      <td>...</td>\n",
       "      <td>...</td>\n",
       "      <td>...</td>\n",
       "      <td>...</td>\n",
       "      <td>...</td>\n",
       "      <td>...</td>\n",
       "    </tr>\n",
       "    <tr>\n",
       "      <th>277759</th>\n",
       "      <td>USW00093245</td>\n",
       "      <td>2022-02-16</td>\n",
       "      <td>TMIN_F</td>\n",
       "      <td>44.06</td>\n",
       "      <td>38.3208</td>\n",
       "      <td>-123.0747</td>\n",
       "      <td>19.2</td>\n",
       "      <td>CA</td>\n",
       "      <td>Bodega</td>\n",
       "      <td>Sonoma</td>\n",
       "      <td>6097</td>\n",
       "      <td>CA</td>\n",
       "    </tr>\n",
       "    <tr>\n",
       "      <th>277760</th>\n",
       "      <td>USW00093245</td>\n",
       "      <td>2022-02-17</td>\n",
       "      <td>TMAX_F</td>\n",
       "      <td>58.82</td>\n",
       "      <td>38.3208</td>\n",
       "      <td>-123.0747</td>\n",
       "      <td>19.2</td>\n",
       "      <td>CA</td>\n",
       "      <td>Bodega</td>\n",
       "      <td>Sonoma</td>\n",
       "      <td>6097</td>\n",
       "      <td>CA</td>\n",
       "    </tr>\n",
       "    <tr>\n",
       "      <th>277761</th>\n",
       "      <td>USW00093245</td>\n",
       "      <td>2022-02-17</td>\n",
       "      <td>TMIN_F</td>\n",
       "      <td>42.80</td>\n",
       "      <td>38.3208</td>\n",
       "      <td>-123.0747</td>\n",
       "      <td>19.2</td>\n",
       "      <td>CA</td>\n",
       "      <td>Bodega</td>\n",
       "      <td>Sonoma</td>\n",
       "      <td>6097</td>\n",
       "      <td>CA</td>\n",
       "    </tr>\n",
       "    <tr>\n",
       "      <th>277762</th>\n",
       "      <td>USW00093245</td>\n",
       "      <td>2022-02-18</td>\n",
       "      <td>TMAX_F</td>\n",
       "      <td>55.04</td>\n",
       "      <td>38.3208</td>\n",
       "      <td>-123.0747</td>\n",
       "      <td>19.2</td>\n",
       "      <td>CA</td>\n",
       "      <td>Bodega</td>\n",
       "      <td>Sonoma</td>\n",
       "      <td>6097</td>\n",
       "      <td>CA</td>\n",
       "    </tr>\n",
       "    <tr>\n",
       "      <th>277763</th>\n",
       "      <td>USW00093245</td>\n",
       "      <td>2022-02-18</td>\n",
       "      <td>TMIN_F</td>\n",
       "      <td>41.00</td>\n",
       "      <td>38.3208</td>\n",
       "      <td>-123.0747</td>\n",
       "      <td>19.2</td>\n",
       "      <td>CA</td>\n",
       "      <td>Bodega</td>\n",
       "      <td>Sonoma</td>\n",
       "      <td>6097</td>\n",
       "      <td>CA</td>\n",
       "    </tr>\n",
       "  </tbody>\n",
       "</table>\n",
       "<p>277764 rows × 12 columns</p>\n",
       "</div>"
      ],
      "text/plain": [
       "                 ID       DATE ELEMENT  DATA_VALUE  LATITUTDE  LONGITUDE  \\\n",
       "0       USC00040136 2020-01-01  TMAX_F       62.96    32.8358  -116.7775   \n",
       "1       USC00040136 2020-01-01  TMIN_F       39.92    32.8358  -116.7775   \n",
       "2       USC00040136 2020-01-02  TMAX_F       62.96    32.8358  -116.7775   \n",
       "3       USC00040136 2020-01-02  TMIN_F       41.00    32.8358  -116.7775   \n",
       "4       USC00040136 2020-01-03  TMAX_F       68.00    32.8358  -116.7775   \n",
       "...             ...        ...     ...         ...        ...        ...   \n",
       "277759  USW00093245 2022-02-16  TMIN_F       44.06    38.3208  -123.0747   \n",
       "277760  USW00093245 2022-02-17  TMAX_F       58.82    38.3208  -123.0747   \n",
       "277761  USW00093245 2022-02-17  TMIN_F       42.80    38.3208  -123.0747   \n",
       "277762  USW00093245 2022-02-18  TMAX_F       55.04    38.3208  -123.0747   \n",
       "277763  USW00093245 2022-02-18  TMIN_F       41.00    38.3208  -123.0747   \n",
       "\n",
       "        ELEVATION STATE_x    NAME     COUNTY  FIPS STATE_y  \n",
       "0           516.6      CA  Alpine  San Diego  6073      CA  \n",
       "1           516.6      CA  Alpine  San Diego  6073      CA  \n",
       "2           516.6      CA  Alpine  San Diego  6073      CA  \n",
       "3           516.6      CA  Alpine  San Diego  6073      CA  \n",
       "4           516.6      CA  Alpine  San Diego  6073      CA  \n",
       "...           ...     ...     ...        ...   ...     ...  \n",
       "277759       19.2      CA  Bodega     Sonoma  6097      CA  \n",
       "277760       19.2      CA  Bodega     Sonoma  6097      CA  \n",
       "277761       19.2      CA  Bodega     Sonoma  6097      CA  \n",
       "277762       19.2      CA  Bodega     Sonoma  6097      CA  \n",
       "277763       19.2      CA  Bodega     Sonoma  6097      CA  \n",
       "\n",
       "[277764 rows x 12 columns]"
      ]
     },
     "execution_count": 4,
     "metadata": {},
     "output_type": "execute_result"
    }
   ],
   "source": [
    "temps"
   ]
  },
  {
   "cell_type": "code",
   "execution_count": 7,
   "metadata": {},
   "outputs": [
    {
     "data": {
      "text/plain": [
       "201"
      ]
     },
     "execution_count": 7,
     "metadata": {},
     "output_type": "execute_result"
    }
   ],
   "source": [
    "temps['ID'].nunique()"
   ]
  },
  {
   "cell_type": "code",
   "execution_count": 8,
   "metadata": {},
   "outputs": [
    {
     "data": {
      "text/plain": [
       "Timestamp('2022-02-18 00:00:00')"
      ]
     },
     "execution_count": 8,
     "metadata": {},
     "output_type": "execute_result"
    }
   ],
   "source": [
    "temps['DATE'].max()"
   ]
  },
  {
   "cell_type": "code",
   "execution_count": 9,
   "metadata": {},
   "outputs": [
    {
     "data": {
      "text/plain": [
       "Timestamp('2020-01-01 00:00:00')"
      ]
     },
     "execution_count": 9,
     "metadata": {},
     "output_type": "execute_result"
    }
   ],
   "source": [
    "temps['DATE'].min()"
   ]
  },
  {
   "cell_type": "code",
   "execution_count": 10,
   "metadata": {},
   "outputs": [
    {
     "data": {
      "text/plain": [
       "52"
      ]
     },
     "execution_count": 10,
     "metadata": {},
     "output_type": "execute_result"
    }
   ],
   "source": [
    "temps['COUNTY'].nunique()"
   ]
  },
  {
   "cell_type": "code",
   "execution_count": 11,
   "metadata": {},
   "outputs": [
    {
     "data": {
      "text/plain": [
       "(277764, 12)"
      ]
     },
     "execution_count": 11,
     "metadata": {},
     "output_type": "execute_result"
    }
   ],
   "source": [
    "temps.shape"
   ]
  },
  {
   "cell_type": "code",
   "execution_count": 13,
   "metadata": {},
   "outputs": [
    {
     "data": {
      "text/plain": [
       "194"
      ]
     },
     "execution_count": 13,
     "metadata": {},
     "output_type": "execute_result"
    }
   ],
   "source": [
    "temps['NAME'].nunique()"
   ]
  },
  {
   "cell_type": "code",
   "execution_count": null,
   "metadata": {},
   "outputs": [],
   "source": []
  }
 ],
 "metadata": {
  "interpreter": {
   "hash": "8bf545fee5244b87f8838516b4f261d3187914960dc9901da498b5b3355a3fd9"
  },
  "kernelspec": {
   "display_name": "Python 3.8.12 ('pythonProject')",
   "language": "python",
   "name": "python3"
  },
  "language_info": {
   "codemirror_mode": {
    "name": "ipython",
    "version": 3
   },
   "file_extension": ".py",
   "mimetype": "text/x-python",
   "name": "python",
   "nbconvert_exporter": "python",
   "pygments_lexer": "ipython3",
   "version": "3.8.12"
  },
  "orig_nbformat": 4
 },
 "nbformat": 4,
 "nbformat_minor": 2
}
