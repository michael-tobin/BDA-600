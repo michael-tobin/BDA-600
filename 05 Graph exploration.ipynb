{
 "cells": [
  {
   "cell_type": "code",
   "execution_count": 1,
   "metadata": {},
   "outputs": [],
   "source": [
    "import pandas as pd\n",
    "from matplotlib import pyplot as plt"
   ]
  },
  {
   "cell_type": "code",
   "execution_count": 2,
   "metadata": {},
   "outputs": [],
   "source": [
    "weather = pd.read_csv('Data/Weather/Stations-Observations Merged-Converted-with FIPS/NOAA_daily_weather_observations_with_stations_2020_to_2022_converted_with_FIPS.csv')\n",
    "weather['DATE']=pd.to_datetime(weather['DATE'], format='%Y%m%d')"
   ]
  },
  {
   "cell_type": "code",
   "execution_count": 3,
   "metadata": {},
   "outputs": [],
   "source": [
    "max_temps=weather[weather['ELEMENT']=='TMAX_F']\n",
    "min_temps=weather[weather['ELEMENT']=='TMIN_F']"
   ]
  },
  {
   "cell_type": "code",
   "execution_count": 4,
   "metadata": {},
   "outputs": [],
   "source": [
    "temps= pd.concat((max_temps, min_temps), ignore_index=True)\n",
    "avgtemps = pd.DataFrame(temps.groupby(['DATE','COUNTY'])['DATA_VALUE'].mean())\n",
    "avgtemps = avgtemps.reset_index()  "
   ]
  },
  {
   "cell_type": "code",
   "execution_count": 5,
   "metadata": {},
   "outputs": [],
   "source": [
    "cases = pd.read_csv('Data/Covid Cases/Covid Cases with FIPS/Covid_Cases_Reduced_with_FIPS.csv')\n",
    "cases['Date']=pd.to_datetime(cases['Date'], format='%Y-%m-%d')"
   ]
  },
  {
   "cell_type": "code",
   "execution_count": 6,
   "metadata": {},
   "outputs": [],
   "source": [
    "def simple_graph(county):\n",
    "    plt.bar(max_temps[max_temps['COUNTY']==county]['DATE'], max_temps[max_temps['COUNTY']==county]['DATA_VALUE'])\n",
    "    plt.bar(min_temps[min_temps['COUNTY']==county]['DATE'], min_temps[min_temps['COUNTY']==county]['DATA_VALUE'])\n",
    "    plt.bar(cases[cases['County']==county]['Date'], cases[cases['County']==county]['Cases'])\n",
    "    #plt.legend(['Max Temp', 'Min Temp'])\n",
    "    plt.figure(figsize=(2,2))\n",
    "    plt.show()"
   ]
  },
  {
   "cell_type": "code",
   "execution_count": 7,
   "metadata": {},
   "outputs": [],
   "source": [
    "def double_bar_hi_lo_temp(county):\n",
    " \n",
    "    # Creating plot with dataset_1\n",
    "    fig, ax1 = plt.subplots()\n",
    "\n",
    "    ax1.set_xlabel('date')\n",
    "    ax1.set_ylabel('temp', color='tab:red')\n",
    "    ax1.bar(max_temps[max_temps['COUNTY']==county]['DATE'], max_temps[max_temps['COUNTY']==county]['DATA_VALUE'], color = 'tab:red')\n",
    "    ax1.bar(min_temps[min_temps['COUNTY']==county]['DATE'], min_temps[min_temps['COUNTY']==county]['DATA_VALUE'], color = 'tab:blue')\n",
    "    plt.xticks(rotation=45, ha='right')\n",
    "    ax1.tick_params(axis ='y')\n",
    "\n",
    "    # Adding Twin Axes to plot using dataset_2\n",
    "    ax2 = ax1.twinx()\n",
    "\n",
    "    ax2.set_ylabel('cases', color='tab:green')\n",
    "    ax2.bar(cases[cases['County']==county]['Date'], cases[cases['County']==county]['Cases'], color = 'tab:green')\n",
    "    ax2.tick_params(axis ='y')\n",
    "\n",
    "\n",
    "    # Adding title\n",
    "    plt.title('Use different y-axes on the left and right of a Matplotlib plot', fontweight =\"bold\")\n",
    "\n",
    "    # Show plot\n",
    "    fig.savefig('Graph/'+county+'_bar.png', bbox_inches='tight')\n",
    "    \n",
    "    plt.show()"
   ]
  },
  {
   "cell_type": "code",
   "execution_count": 8,
   "metadata": {},
   "outputs": [],
   "source": [
    "def double_line_avg_temp(county):\n",
    "    \n",
    "    # Creating plot with dataset_1\n",
    "    fig, ax1 = plt.subplots()\n",
    "    \n",
    "    ax1.set_xlabel('date')\n",
    "    ax1.set_ylabel('Avg Temp', color='tab:blue')\n",
    "    ax1.plot(avgtemps[avgtemps['COUNTY']== county]['DATE'], avgtemps[avgtemps['COUNTY']== county]['DATA_VALUE'], color = 'tab:blue')\n",
    "    plt.xticks(rotation=45, ha='right')\n",
    "    ax1.tick_params(axis ='y')\n",
    "    \n",
    "    # Adding Twin Axes to plot using dataset_2\n",
    "    ax2 = ax1.twinx()\n",
    "    \n",
    " \n",
    "    ax2.set_ylabel('cases', color='tab:green')\n",
    "    #ax2.set_ylabel('deaths', color='tab:red')\n",
    "    ax2.plot(cases[cases['County']== county]['Date'], cases[cases['County']== county]['Cases'], color = 'tab:green')\n",
    "    ax2.plot(cases[cases['County']== county]['Date'], cases[cases['County']== county]['Deaths'], color = 'tab:red')\n",
    "\n",
    "    ax2.tick_params(axis ='y')\n",
    "\n",
    "\n",
    "    # Adding title\n",
    "    plt.title(county, fontweight =\"bold\")\n",
    "\n",
    "    # Show plot\n",
    "    fig.savefig('Graph/Full/'+county+'_line.png', dpi = 300, bbox_inches='tight')\n",
    "    plt.show()"
   ]
  },
  {
   "cell_type": "code",
   "execution_count": 9,
   "metadata": {},
   "outputs": [],
   "source": [
    "list_of_counties = avgtemps['COUNTY'].unique()"
   ]
  },
  {
   "cell_type": "code",
   "execution_count": null,
   "metadata": {},
   "outputs": [],
   "source": [
    "for county in list_of_counties:\n",
    "    double_line_avg_temp(county)"
   ]
  },
  {
   "cell_type": "code",
   "execution_count": null,
   "metadata": {},
   "outputs": [],
   "source": []
  }
 ],
 "metadata": {
  "interpreter": {
   "hash": "8bf545fee5244b87f8838516b4f261d3187914960dc9901da498b5b3355a3fd9"
  },
  "kernelspec": {
   "display_name": "Python 3.8.12 ('pythonProject')",
   "language": "python",
   "name": "python3"
  },
  "language_info": {
   "codemirror_mode": {
    "name": "ipython",
    "version": 3
   },
   "file_extension": ".py",
   "mimetype": "text/x-python",
   "name": "python",
   "nbconvert_exporter": "python",
   "pygments_lexer": "ipython3",
   "version": "3.8.12"
  },
  "orig_nbformat": 4
 },
 "nbformat": 4,
 "nbformat_minor": 2
}
