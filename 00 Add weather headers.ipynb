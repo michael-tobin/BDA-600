{
 "cells": [
  {
   "cell_type": "code",
   "execution_count": null,
   "metadata": {},
   "outputs": [],
   "source": [
    "import pandas as pd\n",
    "import os"
   ]
  },
  {
   "cell_type": "code",
   "execution_count": null,
   "metadata": {},
   "outputs": [],
   "source": [
    "obs_dir = 'Data/Weather/raw/Observations/'\n",
    "\n",
    "out_dir = 'Data/Weather/raw_with_headers/'\n",
    "\n",
    "if not os.path.exists(out_dir):\n",
    "    os.makedirs(out_dir)"
   ]
  },
  {
   "cell_type": "code",
   "execution_count": null,
   "metadata": {},
   "outputs": [],
   "source": [
    "for filename in os.listdir(obs_dir):\n",
    "    if not filename.startswith('.'): # ignore hidden files\n",
    "        f = os.path.join(obs_dir, filename)\n",
    "        df = pd.read_csv(f)\n",
    "        df.to_csv(out_dir+'NOAA_daily_weather_observations_'+filename, \n",
    "                  header=['ID', 'DATE', 'ELEMENT', 'DATA_VALUE', 'M_FLAG', 'Q_FLAG', 'S_FLAG', 'OBS_TIME'], index=False)"
   ]
  },
  {
   "cell_type": "code",
   "execution_count": null,
   "metadata": {},
   "outputs": [],
   "source": [
    "df=pd.read_csv('Data/Weather/raw/ghcnd-stations.csv', header=None, usecols=[0,1,2,3,4,5]) # There are some later columns that we don't need\n",
    "df.to_csv(out_dir+'NOAA_ghcnd_stations.csv', header=['ID', 'LATITUTDE', 'LONGITUDE', 'ELEVATION', 'STATE', 'NAME'], index=False)"
   ]
  },
  {
   "cell_type": "code",
   "execution_count": null,
   "metadata": {},
   "outputs": [],
   "source": [
    "df=pd.read_csv('Data/Weather/raw/ghcnd-inventory.csv', header=None)\n",
    "df.to_csv(out_dir+'NOAA_ghcnd_inventory.csv', header=['ID', 'LATITUDE', 'LONGITUDE', 'ELEMENT', 'FIRST_YEAR', 'LAST_YEAR'], index=False)"
   ]
  }
 ],
 "metadata": {
  "interpreter": {
   "hash": "8bf545fee5244b87f8838516b4f261d3187914960dc9901da498b5b3355a3fd9"
  },
  "kernelspec": {
   "display_name": "Python 3.8.12 64-bit ('pythonProject': conda)",
   "language": "python",
   "name": "python3"
  },
  "language_info": {
   "codemirror_mode": {
    "name": "ipython",
    "version": 3
   },
   "file_extension": ".py",
   "mimetype": "text/x-python",
   "name": "python",
   "nbconvert_exporter": "python",
   "pygments_lexer": "ipython3",
   "version": "3.8.12"
  },
  "orig_nbformat": 4
 },
 "nbformat": 4,
 "nbformat_minor": 2
}
