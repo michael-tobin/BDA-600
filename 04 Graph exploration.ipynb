{
 "cells": [
  {
   "cell_type": "code",
   "execution_count": 1,
   "metadata": {},
   "outputs": [],
   "source": [
    "import pandas as pd\n",
    "from matplotlib import pyplot as plt"
   ]
  },
  {
   "cell_type": "code",
   "execution_count": 2,
   "metadata": {},
   "outputs": [],
   "source": [
    "weather = pd.read_csv('Data/Weather/Stations-Observations Merged-Converted-with FIPS/NOAA_daily_weather_observations_with_stations_2020_to_2022_converted_with_FIPS.csv')\n",
    "weather['DATE']=pd.to_datetime(weather['DATE'], format='%Y%m%d')"
   ]
  },
  {
   "cell_type": "code",
   "execution_count": 3,
   "metadata": {},
   "outputs": [],
   "source": [
    "max_temps=weather[weather['ELEMENT']=='TMAX_F']\n",
    "min_temps=weather[weather['ELEMENT']=='TMIN_F']"
   ]
  },
  {
   "cell_type": "code",
   "execution_count": null,
   "metadata": {},
   "outputs": [],
   "source": [
    "temps= pd.concat((max_temps, min_temps), ignore_index=True)\n",
    "temps = temps.sort_values(['ID','DATE'], ignore_index=True)\n",
    "avgtemps = pd.DataFrame(temps.groupby(['ID', 'COUNTY', 'FIPS', 'DATE'])['DATA_VALUE'].mean())\n",
    "avgtemps = avgtemps.reset_index()  "
   ]
  },
  {
   "cell_type": "code",
   "execution_count": 4,
   "metadata": {},
   "outputs": [
    {
     "data": {
      "text/html": [
       "<div>\n",
       "<style scoped>\n",
       "    .dataframe tbody tr th:only-of-type {\n",
       "        vertical-align: middle;\n",
       "    }\n",
       "\n",
       "    .dataframe tbody tr th {\n",
       "        vertical-align: top;\n",
       "    }\n",
       "\n",
       "    .dataframe thead th {\n",
       "        text-align: right;\n",
       "    }\n",
       "</style>\n",
       "<table border=\"1\" class=\"dataframe\">\n",
       "  <thead>\n",
       "    <tr style=\"text-align: right;\">\n",
       "      <th></th>\n",
       "      <th>Date</th>\n",
       "      <th>County</th>\n",
       "      <th>State</th>\n",
       "      <th>FIPS</th>\n",
       "      <th>Cases</th>\n",
       "      <th>Deaths</th>\n",
       "      <th>TotalTests</th>\n",
       "      <th>PositiveTest</th>\n",
       "    </tr>\n",
       "  </thead>\n",
       "  <tbody>\n",
       "    <tr>\n",
       "      <th>0</th>\n",
       "      <td>2020-03-22</td>\n",
       "      <td>Alameda</td>\n",
       "      <td>CA</td>\n",
       "      <td>6001.0</td>\n",
       "      <td>24</td>\n",
       "      <td>2</td>\n",
       "      <td>175</td>\n",
       "      <td>14</td>\n",
       "    </tr>\n",
       "    <tr>\n",
       "      <th>1</th>\n",
       "      <td>2020-03-25</td>\n",
       "      <td>Alameda</td>\n",
       "      <td>CA</td>\n",
       "      <td>6001.0</td>\n",
       "      <td>32</td>\n",
       "      <td>2</td>\n",
       "      <td>435</td>\n",
       "      <td>49</td>\n",
       "    </tr>\n",
       "    <tr>\n",
       "      <th>2</th>\n",
       "      <td>2020-03-27</td>\n",
       "      <td>Alameda</td>\n",
       "      <td>CA</td>\n",
       "      <td>6001.0</td>\n",
       "      <td>40</td>\n",
       "      <td>2</td>\n",
       "      <td>469</td>\n",
       "      <td>34</td>\n",
       "    </tr>\n",
       "    <tr>\n",
       "      <th>3</th>\n",
       "      <td>2020-03-28</td>\n",
       "      <td>Alameda</td>\n",
       "      <td>CA</td>\n",
       "      <td>6001.0</td>\n",
       "      <td>18</td>\n",
       "      <td>3</td>\n",
       "      <td>253</td>\n",
       "      <td>25</td>\n",
       "    </tr>\n",
       "    <tr>\n",
       "      <th>4</th>\n",
       "      <td>2020-04-01</td>\n",
       "      <td>Alameda</td>\n",
       "      <td>CA</td>\n",
       "      <td>6001.0</td>\n",
       "      <td>68</td>\n",
       "      <td>2</td>\n",
       "      <td>461</td>\n",
       "      <td>61</td>\n",
       "    </tr>\n",
       "  </tbody>\n",
       "</table>\n",
       "</div>"
      ],
      "text/plain": [
       "        Date   County State    FIPS  Cases  Deaths  TotalTests  PositiveTest\n",
       "0 2020-03-22  Alameda    CA  6001.0     24       2         175            14\n",
       "1 2020-03-25  Alameda    CA  6001.0     32       2         435            49\n",
       "2 2020-03-27  Alameda    CA  6001.0     40       2         469            34\n",
       "3 2020-03-28  Alameda    CA  6001.0     18       3         253            25\n",
       "4 2020-04-01  Alameda    CA  6001.0     68       2         461            61"
      ]
     },
     "execution_count": 4,
     "metadata": {},
     "output_type": "execute_result"
    }
   ],
   "source": [
    "cases = pd.read_csv('Data/Covid Cases/Covid Cases with FIPS/Covid_Cases_Reduced_with_FIPS.csv')\n",
    "cases['Date']=pd.to_datetime(cases['Date'], format='%Y-%m-%d')\n",
    "cases.head()"
   ]
  },
  {
   "cell_type": "code",
   "execution_count": 5,
   "metadata": {},
   "outputs": [],
   "source": [
    "def simple_graph(county):\n",
    "    plt.bar(max_temps[max_temps['COUNTY']==county]['DATE'], max_temps[max_temps['COUNTY']==county]['DATA_VALUE'])\n",
    "    plt.bar(min_temps[min_temps['COUNTY']==county]['DATE'], min_temps[min_temps['COUNTY']==county]['DATA_VALUE'])\n",
    "    plt.bar(cases[cases['County']==county]['Date'], cases[cases['County']==county]['Cases'])\n",
    "    #plt.legend(['Max Temp', 'Min Temp'])\n",
    "    plt.figure(figsize=(2,2))\n",
    "    plt.show()"
   ]
  },
  {
   "cell_type": "code",
   "execution_count": 6,
   "metadata": {},
   "outputs": [],
   "source": [
    "def double_bar_hi_lo_temp(county):\n",
    " \n",
    "    # Creating plot with dataset_1\n",
    "    fig, ax1 = plt.subplots()\n",
    "\n",
    "    ax1.set_xlabel('date')\n",
    "    ax1.set_ylabel('temp', color='tab:red')\n",
    "    ax1.bar(max_temps[max_temps['COUNTY']==county]['DATE'], max_temps[max_temps['COUNTY']==county]['DATA_VALUE'], color = 'tab:red')\n",
    "    ax1.bar(min_temps[min_temps['COUNTY']==county]['DATE'], min_temps[min_temps['COUNTY']==county]['DATA_VALUE'], color = 'tab:blue')\n",
    "    plt.xticks(rotation=45, ha='right')\n",
    "    ax1.tick_params(axis ='y')\n",
    "\n",
    "    # Adding Twin Axes to plot using dataset_2\n",
    "    ax2 = ax1.twinx()\n",
    "\n",
    "    ax2.set_ylabel('cases', color='tab:green')\n",
    "    ax2.bar(cases[cases['County']==county]['Date'], cases[cases['County']==county]['Cases'], color = 'tab:green')\n",
    "    ax2.tick_params(axis ='y')\n",
    "\n",
    "\n",
    "    # Adding title\n",
    "    plt.title('Use different y-axes on the left and right of a Matplotlib plot', fontweight =\"bold\")\n",
    "\n",
    "    # Show plot\n",
    "    fig.savefig('Graph/'+county+'_bar.png', bbox_inches='tight')\n",
    "    plt.show()"
   ]
  },
  {
   "cell_type": "code",
   "execution_count": 45,
   "metadata": {},
   "outputs": [],
   "source": [
    "def double_line_avg_temp(county):\n",
    "    \n",
    "    # Creating plot with dataset_1\n",
    "    fig, ax1 = plt.subplots()\n",
    "    \n",
    "    ax1.set_xlabel('date')\n",
    "    ax1.set_ylabel('temp', color='tab:red')\n",
    "    ax1.plot(avgtemps[avgtemps['COUNTY']== county]['DATE'], avgtemps[avgtemps['COUNTY']== county]['DATA_VALUE'], color = 'tab:red')\n",
    "    plt.xticks(rotation=45, ha='right')\n",
    "    ax1.tick_params(axis ='y')\n",
    "    \n",
    "    # Adding Twin Axes to plot using dataset_2\n",
    "    ax2 = ax1.twinx()\n",
    "    \n",
    "    ax2.set_ylabel('cases', color='tab:green')\n",
    "    ax2.plot(cases[cases['County']== county]['Date'], cases[cases['County']== county]['Cases'], color = 'tab:green')\n",
    "    ax2.tick_params(axis ='y')\n",
    "\n",
    "\n",
    "    # Adding title\n",
    "    plt.title(county, fontweight =\"bold\")\n",
    "\n",
    "    # Show plot\n",
    "    fig.savefig('Graph/'+county+'_line.png', bbox_inches='tight')\n",
    "    plt.show()"
   ]
  },
  {
   "cell_type": "code",
   "execution_count": 10,
   "metadata": {},
   "outputs": [],
   "source": [
    "list_of_counties = avgtemps['COUNTY'].unique()"
   ]
  },
  {
   "cell_type": "code",
   "execution_count": null,
   "metadata": {},
   "outputs": [],
   "source": [
    "for county in list_of_counties:\n",
    "    double_line_avg_temp(county)"
   ]
  },
  {
   "cell_type": "code",
   "execution_count": null,
   "metadata": {},
   "outputs": [],
   "source": []
  }
 ],
 "metadata": {
  "interpreter": {
   "hash": "8bf545fee5244b87f8838516b4f261d3187914960dc9901da498b5b3355a3fd9"
  },
  "kernelspec": {
   "display_name": "Python 3.8.12 ('pythonProject')",
   "language": "python",
   "name": "python3"
  },
  "language_info": {
   "codemirror_mode": {
    "name": "ipython",
    "version": 3
   },
   "file_extension": ".py",
   "mimetype": "text/x-python",
   "name": "python",
   "nbconvert_exporter": "python",
   "pygments_lexer": "ipython3",
   "version": "3.8.12"
  },
  "orig_nbformat": 4
 },
 "nbformat": 4,
 "nbformat_minor": 2
}
