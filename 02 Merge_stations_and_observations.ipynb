{
 "cells": [
  {
   "cell_type": "code",
   "execution_count": 1,
   "metadata": {},
   "outputs": [],
   "source": [
    "import pandas as pd\n",
    "import os\n",
    "stations=pd.read_csv('Data/Weather/raw_with_headers/NOAA_ghcnd_stations_CA_blanks_removed.csv', usecols=[1,2,3,4,5,6,7])"
   ]
  },
  {
   "cell_type": "code",
   "execution_count": 2,
   "metadata": {},
   "outputs": [],
   "source": [
    "in_dir = 'Data/Weather/raw_with_headers/'\n",
    "out_dir = 'Data/Weather/Stations-Observations Merged/'\n",
    "\n",
    "if not os.path.exists(out_dir):\n",
    "    os.makedirs(out_dir)"
   ]
  },
  {
   "cell_type": "code",
   "execution_count": 3,
   "metadata": {},
   "outputs": [
    {
     "name": "stderr",
     "output_type": "stream",
     "text": [
      "/Users/michaeltobin/.conda/envs/pythonProject/lib/python3.8/site-packages/IPython/core/interactiveshell.py:3444: DtypeWarning: Columns (5) have mixed types.Specify dtype option on import or set low_memory=False.\n",
      "  exec(code_obj, self.user_global_ns, self.user_ns)\n"
     ]
    }
   ],
   "source": [
    "for x in range(2018, 2023):   \n",
    "    infilename = in_dir + 'NOAA_daily_weather_observations_' + str(x) + '.csv'\n",
    "    outfilename = out_dir + 'NOAA_daily_weather_observations_' + str(x) + '_with_stations.csv'\n",
    "    obs=pd.read_csv(infilename)\n",
    "    station_obs=obs.merge(stations, how='left', on='ID')\n",
    "    station_obs.dropna(subset=['NAME'], inplace=True) # Drop the rows that are not in California\n",
    "    station_obs.to_csv(outfilename, index=False)"
   ]
  },
  {
   "cell_type": "code",
   "execution_count": 4,
   "metadata": {},
   "outputs": [
    {
     "data": {
      "text/plain": [
       "(143295311, 8)"
      ]
     },
     "execution_count": 4,
     "metadata": {},
     "output_type": "execute_result"
    }
   ],
   "source": [
    "# create one superfile with all the data\n",
    "obs18 = pd.read_csv(in_dir + 'NOAA_daily_weather_observations_2018.csv')\n",
    "obs19 = pd.read_csv(in_dir + 'NOAA_daily_weather_observations_2019.csv')\n",
    "obs20 = pd.read_csv(in_dir + 'NOAA_daily_weather_observations_2020.csv')\n",
    "obs21 = pd.read_csv(in_dir + 'NOAA_daily_weather_observations_2021.csv')\n",
    "obs22 = pd.read_csv(in_dir + 'NOAA_daily_weather_observations_2022.csv')\n",
    "\n",
    "covidfile = pd.concat([obs20, obs21, obs22])\n",
    "superfile = pd.concat([obs18, obs19, obs20, obs21, obs22])\n",
    "superfile.shape"
   ]
  },
  {
   "cell_type": "code",
   "execution_count": 5,
   "metadata": {},
   "outputs": [],
   "source": [
    "covid_obs=covidfile.merge(stations, how='left', on='ID')\n",
    "covid_obs.dropna(subset=['NAME'], inplace=True) # Drop the rows that are not in California\n",
    "covid_obs.to_csv(out_dir + 'NOAA_daily_weather_observations_with_stations_2020_to_2022.csv', index=False)"
   ]
  },
  {
   "cell_type": "code",
   "execution_count": 6,
   "metadata": {},
   "outputs": [],
   "source": [
    "station_obs=superfile.merge(stations, how='left', on='ID')\n",
    "station_obs.dropna(subset=['NAME'], inplace=True) # Drop the rows that are not in California\n",
    "station_obs.to_csv(out_dir + 'NOAA_daily_weather_observations_with_stations_superfile.csv', index=False)"
   ]
  },
  {
   "cell_type": "code",
   "execution_count": 9,
   "metadata": {},
   "outputs": [
    {
     "data": {
      "text/plain": [
       "(73416747, 8)"
      ]
     },
     "execution_count": 9,
     "metadata": {},
     "output_type": "execute_result"
    }
   ],
   "source": []
  },
  {
   "cell_type": "code",
   "execution_count": null,
   "metadata": {},
   "outputs": [],
   "source": []
  }
 ],
 "metadata": {
  "interpreter": {
   "hash": "8bf545fee5244b87f8838516b4f261d3187914960dc9901da498b5b3355a3fd9"
  },
  "kernelspec": {
   "display_name": "Python 3.8.12 ('pythonProject')",
   "language": "python",
   "name": "python3"
  },
  "language_info": {
   "codemirror_mode": {
    "name": "ipython",
    "version": 3
   },
   "file_extension": ".py",
   "mimetype": "text/x-python",
   "name": "python",
   "nbconvert_exporter": "python",
   "pygments_lexer": "ipython3",
   "version": "3.8.12"
  },
  "orig_nbformat": 4
 },
 "nbformat": 4,
 "nbformat_minor": 2
}
