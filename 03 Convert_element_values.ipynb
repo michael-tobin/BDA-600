{
 "cells": [
  {
   "cell_type": "code",
   "execution_count": 1,
   "metadata": {},
   "outputs": [],
   "source": [
    "import pandas as pd\n",
    "import os"
   ]
  },
  {
   "cell_type": "code",
   "execution_count": 2,
   "metadata": {},
   "outputs": [],
   "source": [
    "in_dir = 'Data/Weather/Stations-Observations Merged/'\n",
    "\n",
    "out_dir = 'Data/Weather/Stations-Observations Merged-Converted/'\n",
    "if not os.path.exists(out_dir):\n",
    "    os.makedirs(out_dir)"
   ]
  },
  {
   "cell_type": "code",
   "execution_count": 3,
   "metadata": {},
   "outputs": [],
   "source": [
    "# Define conditions to filter the data frame\n",
    "# Filter the df down to only the values that we want\n",
    "def filter_conditions(df):\n",
    "    cond1 = df['ELEMENT'] == 'PRCP' # Precipitation (tenths of mm)\n",
    "    cond2 = df['ELEMENT'] == 'SNOW' # Snowfall (mm)\n",
    "    cond3 = df['ELEMENT'] == 'SNWD' # Snow depth (mm)\n",
    "    cond4 = df['ELEMENT'] == 'TMAX' # Maximum temperature (tenths of degrees C)\n",
    "    cond5 = df['ELEMENT'] == 'TMIN' # Minimum temperature (tenths of degrees C)\n",
    "    cond6 = df['ELEMENT'] == 'AWND' # Average wind speed (tenths of meters per second)\n",
    "    cond7 = df['ELEMENT'] == 'TAVG' # Average temperature (tenths of degrees C)\n",
    "    allcond = cond1 | cond2 | cond3 | cond4 | cond5 | cond6 | cond7\n",
    "    df=df[allcond]\n",
    "    "
   ]
  },
  {
   "cell_type": "code",
   "execution_count": 4,
   "metadata": {},
   "outputs": [],
   "source": [
    "def drop_columns(df):\n",
    "    drop_cols = ['M_FLAG', 'Q_FLAG', 'S_FLAG', 'OBS_TIME']\n",
    "    df.drop(drop_cols, axis=1, inplace=True)"
   ]
  },
  {
   "cell_type": "code",
   "execution_count": 5,
   "metadata": {},
   "outputs": [],
   "source": [
    "# Define function to convert celcius to fahrenheit\n",
    "# This also accounts for the tenths of degrees part\n",
    "def tc_to_f(x):\n",
    "    x=x/10\n",
    "    return (x*9/5)+32"
   ]
  },
  {
   "cell_type": "code",
   "execution_count": 6,
   "metadata": {},
   "outputs": [],
   "source": [
    "# Define function to convert tenths of mm to inches\n",
    "def mm_to_inches(x):\n",
    "    return x*0.0393701"
   ]
  },
  {
   "cell_type": "code",
   "execution_count": 7,
   "metadata": {},
   "outputs": [],
   "source": [
    "# define function to convert tenths of mm to inches\n",
    "def tmm_to_inches(x):\n",
    "    x=x/10\n",
    "    return x*0.0393701"
   ]
  },
  {
   "cell_type": "code",
   "execution_count": 8,
   "metadata": {},
   "outputs": [],
   "source": [
    "# Define function to convert tenths of meters per second to miles per hour\n",
    "def mps_to_mph(x):\n",
    "    x=x/10\n",
    "    return x*2.23694"
   ]
  },
  {
   "cell_type": "code",
   "execution_count": 9,
   "metadata": {},
   "outputs": [],
   "source": [
    "def convert(df):\n",
    "    # Convert PRCP from tenths of mm to inches\n",
    "    df.loc[df.ELEMENT == 'PRCP', 'DATA_VALUE'] = df.loc[df.ELEMENT == 'PRCP', 'DATA_VALUE'].apply(tmm_to_inches)\n",
    "    # Convert SNOW from mm to inches\n",
    "    df.loc[df.ELEMENT == 'SNOW', 'DATA_VALUE'] = df.loc[df.ELEMENT == 'SNOW', 'DATA_VALUE'].apply(mm_to_inches)\n",
    "    # Convert SNWD from mm to inches\n",
    "    df.loc[df.ELEMENT == 'SNWD', 'DATA_VALUE'] = df.loc[df.ELEMENT == 'SNWD', 'DATA_VALUE'].apply(mm_to_inches)\n",
    "    # Convert TMAX from tenths of degrees C to fahrenheit\n",
    "    df.loc[df.ELEMENT == 'TMAX', 'DATA_VALUE'] = df.loc[df.ELEMENT == 'TMAX', 'DATA_VALUE'].apply(tc_to_f)\n",
    "    # Convert TMIN from tenths of degrees C to fahrenheit\n",
    "    df.loc[df.ELEMENT == 'TMIN', 'DATA_VALUE'] = df.loc[df.ELEMENT == 'TMIN', 'DATA_VALUE'].apply(tc_to_f)\n",
    "    # Convert AWND from tenths of meters per second to miles per hour\n",
    "    df.loc[df.ELEMENT == 'AWND', 'DATA_VALUE'] = df.loc[df.ELEMENT == 'AWND', 'DATA_VALUE'].apply(mps_to_mph)\n",
    "    # Convert TAVG from tenths of degrees C to fahrenheit\n",
    "    df.loc[df.ELEMENT == 'TAVG', 'DATA_VALUE'] = df.loc[df.ELEMENT == 'TAVG', 'DATA_VALUE'].apply(tc_to_f)"
   ]
  },
  {
   "cell_type": "code",
   "execution_count": 10,
   "metadata": {},
   "outputs": [],
   "source": [
    "def rename_columns(df):\n",
    "    new_elements = {'PRCP':'PRCP_INCH', 'SNOW':'SNOW_INCH', 'SNWD':'SNWD_INCH', \n",
    "                    'TMAX':'TMAX_F', 'TMIN':'TMIN_F', 'TAVG':'TAVG_F', 'AWND':'AWND_MPH'}\n",
    "    df['ELEMENT'].replace(new_elements, inplace=True)"
   ]
  },
  {
   "cell_type": "code",
   "execution_count": 11,
   "metadata": {},
   "outputs": [],
   "source": [
    "def write_to_file(filename, df):\n",
    "    filename = filename.replace('.csv','') + '_converted.csv'\n",
    "    f = os.path.join(out_dir, filename)\n",
    "    df.to_csv(f, index=False)"
   ]
  },
  {
   "cell_type": "code",
   "execution_count": 13,
   "metadata": {},
   "outputs": [],
   "source": [
    "for filename in os.listdir(in_dir):\n",
    "    if not filename.startswith('.'): # ignore hidden files\n",
    "        f = os.path.join(in_dir, filename)\n",
    "        if os.path.isfile(f):\n",
    "            df=pd.read_csv(f)\n",
    "            filter_conditions(df)\n",
    "            drop_columns(df)\n",
    "            convert(df)\n",
    "            rename_columns(df)\n",
    "            write_to_file(filename, df)"
   ]
  }
 ],
 "metadata": {
  "interpreter": {
   "hash": "8bf545fee5244b87f8838516b4f261d3187914960dc9901da498b5b3355a3fd9"
  },
  "kernelspec": {
   "display_name": "SPARQL",
   "language": "python",
   "name": "python3"
  },
  "language_info": {
   "codemirror_mode": {
    "name": "ipython",
    "version": 3
   },
   "file_extension": ".py",
   "mimetype": "text/x-python",
   "name": "python",
   "nbconvert_exporter": "python",
   "pygments_lexer": "ipython3",
   "version": "3.8.12"
  },
  "orig_nbformat": 4
 },
 "nbformat": 4,
 "nbformat_minor": 2
}
