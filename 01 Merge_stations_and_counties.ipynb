{
 "cells": [
  {
   "cell_type": "markdown",
   "metadata": {},
   "source": [
    "# Add a counties field to the stations file and map the cities to their appropriate county\n",
    "Unfortunately, the original data source for the cities -> counties is incomplete, requiring a fair bit of manual entry to complete the table."
   ]
  },
  {
   "cell_type": "code",
   "execution_count": null,
   "metadata": {},
   "outputs": [],
   "source": [
    "import pandas as pd"
   ]
  },
  {
   "cell_type": "markdown",
   "metadata": {},
   "source": [
    "### Station data"
   ]
  },
  {
   "cell_type": "code",
   "execution_count": null,
   "metadata": {},
   "outputs": [],
   "source": [
    "# Read in the data, filter to just CA, and remove unnecessary columns\n",
    "stations=pd.read_csv('Data/Weather/raw_with_headers/NOAA_ghcnd_stations.csv')\n",
    "stations=stations.query('STATE == \"CA\"')\n",
    "stations.head()"
   ]
  },
  {
   "cell_type": "code",
   "execution_count": null,
   "metadata": {},
   "outputs": [],
   "source": [
    "## strip the trailing numbers and cardinal directions from city names\n",
    "import re\n",
    "for i, row in stations['NAME'].iteritems():\n",
    "    new_row= re.sub(r'\\s\\d+\\.*\\d*.+', '', row) # number(s) . number(s) letter(s)\n",
    "    new_row2 = re.sub(r'Ph|Rs|Nm|Fire\\sDept|Hosp|Pk|Sp|Stn|Dam|Cdf|Rch|Hd|Gs|Rng|Ap|vr|Plt|Blvd|Fd|', '', new_row) # remove 2-3 letter acronyms\n",
    "    stations.at[i, 'NAME']=new_row2.title() ## change the name to title case and replace the original value\n",
    "stations['NAME'] = stations['NAME'].str.strip()\n",
    "stations['NAME'] = stations['NAME'].str.replace(r'\\s+', ' ')\n",
    "stations.head()"
   ]
  },
  {
   "cell_type": "code",
   "execution_count": null,
   "metadata": {},
   "outputs": [],
   "source": [
    "for i, row in stations['NAME'].iteritems():\n",
    "    new_row= re.sub(r'\\sCalifornia', '', row) # Remove California from the row (they're all in CA anyway)\n",
    "    stations.at[i, 'NAME']=new_row"
   ]
  },
  {
   "cell_type": "markdown",
   "metadata": {},
   "source": [
    "### City & County data"
   ]
  },
  {
   "cell_type": "code",
   "execution_count": null,
   "metadata": {},
   "outputs": [],
   "source": [
    "## explicitly naming the columns to match up for the merge later on.\n",
    "counties=pd.read_csv('Data/Counties/cal_populations_city.csv', header=0, names=['COUNTY', 'NAME'], usecols=[0,1])\n",
    "counties['NAME'] = counties['NAME'].str.strip()\n",
    "counties['COUNTY'] = counties['COUNTY'].str.strip()\n",
    "counties['NAME'] = counties['NAME'].str.replace(r'\\s+', ' ')\n",
    "counties['COUNTY'] = counties['COUNTY'].str.replace(r'\\s+', ' ')\n",
    "counties.to_csv('Data/Counties/California_counties_kaggle.csv')\n",
    "counties.head()"
   ]
  },
  {
   "cell_type": "code",
   "execution_count": null,
   "metadata": {},
   "outputs": [],
   "source": [
    "#New file\n",
    "counties2=pd.read_csv('Data/Counties/county_extract.csv', header=0, names=['COUNTY', 'NAME'], usecols=[0,1])\n",
    "counties2['NAME'] = counties2['NAME'].str.strip()\n",
    "counties2['COUNTY'] = counties2['COUNTY'].str.strip()\n",
    "counties2['NAME'] = counties2['NAME'].str.replace(r'\\s+', ' ')\n",
    "counties2['COUNTY'] = counties2['COUNTY'].str.replace(r'\\s+', ' ')\n",
    "counties2.to_csv('Data/Counties/California_counties_google_sheet.csv')\n",
    "#counties2.head()"
   ]
  },
  {
   "cell_type": "code",
   "execution_count": null,
   "metadata": {},
   "outputs": [],
   "source": [
    "counties3=pd.concat([counties,counties2]).reset_index(drop=True)\n",
    "#counties3.to_csv('Data/with_headers/California_counties_combined.csv')\n",
    "counties3.head()"
   ]
  },
  {
   "cell_type": "markdown",
   "metadata": {},
   "source": [
    "### Merge the two"
   ]
  },
  {
   "cell_type": "code",
   "execution_count": null,
   "metadata": {},
   "outputs": [],
   "source": [
    "## join the stations and counties dataframes\n",
    "stations=stations.merge(counties3, how='left', on='NAME')\n",
    "stations.drop_duplicates(subset=None, keep='first', inplace=True)\n",
    "#stations.to_csv('Data/with_headers/NOAA_ghcnd_stations_CA.csv')\n",
    "stations.head()"
   ]
  },
  {
   "cell_type": "markdown",
   "metadata": {},
   "source": [
    "### Optionally remove rows that don't have a county. These are mostly specific locations rather than cities"
   ]
  },
  {
   "cell_type": "code",
   "execution_count": null,
   "metadata": {},
   "outputs": [],
   "source": [
    "import numpy as np\n",
    "print(len(stations))\n",
    "stations['COUNTY'].replace('', np.nan, inplace=True)\n",
    "stations.dropna(subset=['COUNTY'], inplace=True)\n",
    "print(len(stations))\n",
    "stations.to_csv('Data/Weather/raw_with_headers/NOAA_ghcnd_stations_CA_blanks_removed.csv')\n"
   ]
  }
 ],
 "metadata": {
  "interpreter": {
   "hash": "8bf545fee5244b87f8838516b4f261d3187914960dc9901da498b5b3355a3fd9"
  },
  "kernelspec": {
   "display_name": "Python 3.8.12 ('pythonProject')",
   "language": "python",
   "name": "python3"
  },
  "language_info": {
   "codemirror_mode": {
    "name": "ipython",
    "version": 3
   },
   "file_extension": ".py",
   "mimetype": "text/x-python",
   "name": "python",
   "nbconvert_exporter": "python",
   "pygments_lexer": "ipython3",
   "version": "3.8.12"
  },
  "orig_nbformat": 4
 },
 "nbformat": 4,
 "nbformat_minor": 2
}
