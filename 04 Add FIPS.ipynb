{
 "cells": [
  {
   "cell_type": "code",
   "execution_count": 5,
   "metadata": {},
   "outputs": [],
   "source": [
    "import pandas as pd\n",
    "fips=pd.read_csv('Data/Counties/FIPS_County_Codes.csv', usecols=[0,1])"
   ]
  },
  {
   "cell_type": "code",
   "execution_count": 6,
   "metadata": {},
   "outputs": [],
   "source": [
    "covid_in_dir='Data/Covid Cases/'\n",
    "covid_out_dir='Data/Covid Cases/Covid Cases with FIPS/'\n",
    "if not os.path.exists(covid_out_dir):\n",
    "    os.makedirs(covid_out_dir)\n",
    "\n",
    "vacc_in_dir='Data/COVID-19 Vaccination Data/'\n",
    "vacc_out_dir='Data/COVID-19 Vaccination Data/COVID-19 Vaccination Data with FIPS/'\n",
    "if not os.path.exists(vacc_out_dir):\n",
    "    os.makedirs(vacc_out_dir)\n",
    "\n",
    "weather_in_dir='Data/Weather/Stations-Observations Merged-Converted/'\n",
    "weather_out_dir='Data/Weather/Stations-Observations Merged-Converted-with FIPS/'\n",
    "if not os.path.exists(weather_out_dir):\n",
    "    os.makedirs(weather_out_dir)"
   ]
  },
  {
   "cell_type": "markdown",
   "metadata": {},
   "source": [
    "### COVID data"
   ]
  },
  {
   "cell_type": "code",
   "execution_count": 7,
   "metadata": {},
   "outputs": [],
   "source": [
    "df=pd.read_excel(covid_in_dir+'Covid Cases Reduced2.xlsx', usecols=[1,2,3,4,5,6,7]) # strip first column as it was just an index\n",
    "df=df.merge(fips, on='County', how='left')\n",
    "df=df[['Date','County','FIPS','Cases','Deaths','TotalTests','PositiveTest']]\n",
    "df.to_csv(covid_out_dir+'Covid_Cases_Reduced_with_FIPS.csv', index=False)"
   ]
  },
  {
   "cell_type": "code",
   "execution_count": 8,
   "metadata": {},
   "outputs": [],
   "source": [
    "df=pd.read_csv(covid_in_dir+'Statewide COVID-19 Cases Deaths Tests updated.csv')\n",
    "df.rename(columns={'area':'County'}, inplace=True)\n",
    "df=df.merge(fips, on='County', how='left')\n",
    "df=df[['date', 'County', 'FIPS', 'area_type', 'population', 'cases', 'cumulative_cases', 'deaths', 'cumulative_deaths', 'total_tests',\n",
    "       'cumulative_total_tests', 'positive_tests', 'cumulative_positive_tests', 'reported_cases', 'cumulative_reported_cases', 'reported_deaths',\n",
    "       'cumulative_reported_deaths', 'reported_tests']]\n",
    "df.to_csv(covid_out_dir+'Statewide_COVID-19_Cases_Deaths_Tests_updated_with_FIPS.csv', index=False)"
   ]
  },
  {
   "cell_type": "markdown",
   "metadata": {},
   "source": [
    "### Vaccination data"
   ]
  },
  {
   "cell_type": "code",
   "execution_count": 9,
   "metadata": {},
   "outputs": [],
   "source": [
    "df=pd.read_csv(vacc_in_dir+'clean_covid19vaccinesbycounty v2.csv')\n",
    "df.rename(columns={'county':'County'}, inplace=True)\n",
    "df=df.merge(fips, on='County', how='left')\n",
    "df=df[['County', 'FIPS', 'administered_date', 'total_doses', 'partially_vaccinated',\n",
    "       'fully_vaccinated', 'at_least_one_dose', 'booster_recip_count']]\n",
    "df.to_csv(vacc_out_dir+'clean_covid-19_vaccines_by_county_with_FIPS.csv', index=False)"
   ]
  },
  {
   "cell_type": "code",
   "execution_count": 10,
   "metadata": {},
   "outputs": [],
   "source": [
    "df=pd.read_csv(vacc_in_dir+'covid19vaccinesbycounty.csv')\n",
    "df.rename(columns={'county':'County'}, inplace=True)\n",
    "df=df.merge(fips, on='County', how='left')\n",
    "df=df[['County', 'FIPS', 'administered_date', 'total_doses', 'cumulative_total_doses',\n",
    "       'pfizer_doses', 'cumulative_pfizer_doses', 'moderna_doses',\n",
    "       'cumulative_moderna_doses', 'jj_doses', 'cumulative_jj_doses',\n",
    "       'partially_vaccinated', 'total_partially_vaccinated',\n",
    "       'fully_vaccinated', 'cumulative_fully_vaccinated', 'at_least_one_dose',\n",
    "       'cumulative_at_least_one_dose', 'california_flag',\n",
    "       'booster_recip_count', 'cumulative_booster_recip_count']]\n",
    "df.to_csv(vacc_out_dir+'covid-19_vaccines_by_county_with_FIPS.csv', index=False)"
   ]
  },
  {
   "cell_type": "markdown",
   "metadata": {},
   "source": [
    "### Weather"
   ]
  },
  {
   "cell_type": "code",
   "execution_count": 11,
   "metadata": {},
   "outputs": [],
   "source": [
    "fips.rename(columns={'County':'COUNTY'}, inplace=True)"
   ]
  },
  {
   "cell_type": "code",
   "execution_count": 12,
   "metadata": {},
   "outputs": [],
   "source": [
    "\n",
    "import os\n",
    "for filename in os.listdir(weather_in_dir):\n",
    "    if not filename.startswith('.'): # ignore hidden files\n",
    "        f = os.path.join(weather_in_dir, filename)\n",
    "        if os.path.isfile(f):\n",
    "            df=pd.read_csv(f)\n",
    "            df=df.merge(fips, on='COUNTY', how='left')\n",
    "            df.to_csv(weather_out_dir+filename+'_with_FIPS', index=False)"
   ]
  }
 ],
 "metadata": {
  "interpreter": {
   "hash": "8bf545fee5244b87f8838516b4f261d3187914960dc9901da498b5b3355a3fd9"
  },
  "kernelspec": {
   "display_name": "Python 3.8.12 ('pythonProject')",
   "language": "python",
   "name": "python3"
  },
  "language_info": {
   "codemirror_mode": {
    "name": "ipython",
    "version": 3
   },
   "file_extension": ".py",
   "mimetype": "text/x-python",
   "name": "python",
   "nbconvert_exporter": "python",
   "pygments_lexer": "ipython3",
   "version": "3.8.12"
  },
  "orig_nbformat": 4
 },
 "nbformat": 4,
 "nbformat_minor": 2
}
