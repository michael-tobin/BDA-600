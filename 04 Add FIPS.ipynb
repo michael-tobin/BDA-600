{
 "cells": [
  {
   "cell_type": "code",
   "execution_count": 9,
   "metadata": {},
   "outputs": [],
   "source": [
    "import pandas as pd\n",
    "fips=pd.read_csv('Data/Counties/FIPS_County_Codes.csv', usecols=[0,1])"
   ]
  },
  {
   "cell_type": "code",
   "execution_count": 10,
   "metadata": {},
   "outputs": [],
   "source": [
    "fips['State']='CA'"
   ]
  },
  {
   "cell_type": "code",
   "execution_count": 12,
   "metadata": {},
   "outputs": [],
   "source": [
    "covid_in_dir='Data/Covid Cases/'\n",
    "covid_out_dir='Data/Covid Cases/Covid Cases with FIPS/'\n",
    "if not os.path.exists(covid_out_dir):\n",
    "    os.makedirs(covid_out_dir)\n",
    "\n",
    "vacc_in_dir='Data/COVID-19 Vaccination Data/'\n",
    "vacc_out_dir='Data/COVID-19 Vaccination Data/COVID-19 Vaccination Data with FIPS/'\n",
    "if not os.path.exists(vacc_out_dir):\n",
    "    os.makedirs(vacc_out_dir)\n",
    "\n",
    "weather_in_dir='Data/Weather/Stations-Observations Merged-Converted/'\n",
    "weather_out_dir='Data/Weather/Stations-Observations Merged-Converted-with FIPS/'\n",
    "if not os.path.exists(weather_out_dir):\n",
    "    os.makedirs(weather_out_dir)"
   ]
  },
  {
   "cell_type": "markdown",
   "metadata": {},
   "source": [
    "### COVID data"
   ]
  },
  {
   "cell_type": "code",
   "execution_count": 15,
   "metadata": {},
   "outputs": [
    {
     "name": "stderr",
     "output_type": "stream",
     "text": [
      "/Users/michaeltobin/.conda/envs/pythonProject/lib/python3.8/site-packages/pandas/io/excel/_base.py:1272: FutureWarning: Defining usecols with out of bounds indices is deprecated and will raise a ParserError in a future version.\n",
      "  return self._reader.parse(\n"
     ]
    }
   ],
   "source": [
    "df=pd.read_excel(covid_in_dir+'Covid Cases Reduced2.xlsx', usecols=[1,2,3,4,5,6,7]) # strip first column as it was just an index\n",
    "df=df.merge(fips, on='County', how='left')\n",
    "df=df[['Date','County','State','FIPS','Cases','Deaths','TotalTests','PositiveTest']]\n",
    "df.to_csv(covid_out_dir+'Covid_Cases_Reduced_with_FIPS.csv', index=False)"
   ]
  },
  {
   "cell_type": "code",
   "execution_count": 16,
   "metadata": {},
   "outputs": [
    {
     "data": {
      "text/html": [
       "<div>\n",
       "<style scoped>\n",
       "    .dataframe tbody tr th:only-of-type {\n",
       "        vertical-align: middle;\n",
       "    }\n",
       "\n",
       "    .dataframe tbody tr th {\n",
       "        vertical-align: top;\n",
       "    }\n",
       "\n",
       "    .dataframe thead th {\n",
       "        text-align: right;\n",
       "    }\n",
       "</style>\n",
       "<table border=\"1\" class=\"dataframe\">\n",
       "  <thead>\n",
       "    <tr style=\"text-align: right;\">\n",
       "      <th></th>\n",
       "      <th>Date</th>\n",
       "      <th>County</th>\n",
       "      <th>State</th>\n",
       "      <th>FIPS</th>\n",
       "      <th>Cases</th>\n",
       "      <th>Deaths</th>\n",
       "      <th>TotalTests</th>\n",
       "      <th>PositiveTest</th>\n",
       "    </tr>\n",
       "  </thead>\n",
       "  <tbody>\n",
       "    <tr>\n",
       "      <th>0</th>\n",
       "      <td>2020-03-22</td>\n",
       "      <td>Alameda</td>\n",
       "      <td>CA</td>\n",
       "      <td>6001.0</td>\n",
       "      <td>24</td>\n",
       "      <td>2</td>\n",
       "      <td>175</td>\n",
       "      <td>14</td>\n",
       "    </tr>\n",
       "    <tr>\n",
       "      <th>1</th>\n",
       "      <td>2020-03-25</td>\n",
       "      <td>Alameda</td>\n",
       "      <td>CA</td>\n",
       "      <td>6001.0</td>\n",
       "      <td>32</td>\n",
       "      <td>2</td>\n",
       "      <td>435</td>\n",
       "      <td>49</td>\n",
       "    </tr>\n",
       "    <tr>\n",
       "      <th>2</th>\n",
       "      <td>2020-03-27</td>\n",
       "      <td>Alameda</td>\n",
       "      <td>CA</td>\n",
       "      <td>6001.0</td>\n",
       "      <td>40</td>\n",
       "      <td>2</td>\n",
       "      <td>469</td>\n",
       "      <td>34</td>\n",
       "    </tr>\n",
       "    <tr>\n",
       "      <th>3</th>\n",
       "      <td>2020-03-28</td>\n",
       "      <td>Alameda</td>\n",
       "      <td>CA</td>\n",
       "      <td>6001.0</td>\n",
       "      <td>18</td>\n",
       "      <td>3</td>\n",
       "      <td>253</td>\n",
       "      <td>25</td>\n",
       "    </tr>\n",
       "    <tr>\n",
       "      <th>4</th>\n",
       "      <td>2020-04-01</td>\n",
       "      <td>Alameda</td>\n",
       "      <td>CA</td>\n",
       "      <td>6001.0</td>\n",
       "      <td>68</td>\n",
       "      <td>2</td>\n",
       "      <td>461</td>\n",
       "      <td>61</td>\n",
       "    </tr>\n",
       "    <tr>\n",
       "      <th>...</th>\n",
       "      <td>...</td>\n",
       "      <td>...</td>\n",
       "      <td>...</td>\n",
       "      <td>...</td>\n",
       "      <td>...</td>\n",
       "      <td>...</td>\n",
       "      <td>...</td>\n",
       "      <td>...</td>\n",
       "    </tr>\n",
       "    <tr>\n",
       "      <th>9429</th>\n",
       "      <td>2021-05-01</td>\n",
       "      <td>Yuba</td>\n",
       "      <td>CA</td>\n",
       "      <td>6115.0</td>\n",
       "      <td>8</td>\n",
       "      <td>2</td>\n",
       "      <td>99</td>\n",
       "      <td>9</td>\n",
       "    </tr>\n",
       "    <tr>\n",
       "      <th>9430</th>\n",
       "      <td>2021-09-10</td>\n",
       "      <td>Yuba</td>\n",
       "      <td>CA</td>\n",
       "      <td>6115.0</td>\n",
       "      <td>45</td>\n",
       "      <td>3</td>\n",
       "      <td>372</td>\n",
       "      <td>61</td>\n",
       "    </tr>\n",
       "    <tr>\n",
       "      <th>9431</th>\n",
       "      <td>2021-11-20</td>\n",
       "      <td>Yuba</td>\n",
       "      <td>CA</td>\n",
       "      <td>6115.0</td>\n",
       "      <td>3</td>\n",
       "      <td>2</td>\n",
       "      <td>142</td>\n",
       "      <td>5</td>\n",
       "    </tr>\n",
       "    <tr>\n",
       "      <th>9432</th>\n",
       "      <td>2021-12-04</td>\n",
       "      <td>Yuba</td>\n",
       "      <td>CA</td>\n",
       "      <td>6115.0</td>\n",
       "      <td>8</td>\n",
       "      <td>2</td>\n",
       "      <td>114</td>\n",
       "      <td>9</td>\n",
       "    </tr>\n",
       "    <tr>\n",
       "      <th>9433</th>\n",
       "      <td>NaT</td>\n",
       "      <td>Yuba</td>\n",
       "      <td>CA</td>\n",
       "      <td>6115.0</td>\n",
       "      <td>3</td>\n",
       "      <td>28</td>\n",
       "      <td>13</td>\n",
       "      <td>2</td>\n",
       "    </tr>\n",
       "  </tbody>\n",
       "</table>\n",
       "<p>9434 rows × 8 columns</p>\n",
       "</div>"
      ],
      "text/plain": [
       "           Date   County State    FIPS  Cases  Deaths  TotalTests  \\\n",
       "0    2020-03-22  Alameda    CA  6001.0     24       2         175   \n",
       "1    2020-03-25  Alameda    CA  6001.0     32       2         435   \n",
       "2    2020-03-27  Alameda    CA  6001.0     40       2         469   \n",
       "3    2020-03-28  Alameda    CA  6001.0     18       3         253   \n",
       "4    2020-04-01  Alameda    CA  6001.0     68       2         461   \n",
       "...         ...      ...   ...     ...    ...     ...         ...   \n",
       "9429 2021-05-01     Yuba    CA  6115.0      8       2          99   \n",
       "9430 2021-09-10     Yuba    CA  6115.0     45       3         372   \n",
       "9431 2021-11-20     Yuba    CA  6115.0      3       2         142   \n",
       "9432 2021-12-04     Yuba    CA  6115.0      8       2         114   \n",
       "9433        NaT     Yuba    CA  6115.0      3      28          13   \n",
       "\n",
       "      PositiveTest  \n",
       "0               14  \n",
       "1               49  \n",
       "2               34  \n",
       "3               25  \n",
       "4               61  \n",
       "...            ...  \n",
       "9429             9  \n",
       "9430            61  \n",
       "9431             5  \n",
       "9432             9  \n",
       "9433             2  \n",
       "\n",
       "[9434 rows x 8 columns]"
      ]
     },
     "execution_count": 16,
     "metadata": {},
     "output_type": "execute_result"
    }
   ],
   "source": [
    "df"
   ]
  },
  {
   "cell_type": "code",
   "execution_count": 17,
   "metadata": {},
   "outputs": [],
   "source": [
    "df=pd.read_csv(covid_in_dir+'Statewide COVID-19 Cases Deaths Tests updated.csv')\n",
    "df.rename(columns={'area':'County'}, inplace=True)\n",
    "df=df.merge(fips, on='County', how='left')\n",
    "df=df[['date', 'County', 'State', 'FIPS', 'area_type', 'population', 'cases', 'cumulative_cases', 'deaths', 'cumulative_deaths', 'total_tests',\n",
    "       'cumulative_total_tests', 'positive_tests', 'cumulative_positive_tests', 'reported_cases', 'cumulative_reported_cases', 'reported_deaths',\n",
    "       'cumulative_reported_deaths', 'reported_tests']]\n",
    "df.to_csv(covid_out_dir+'Statewide_COVID-19_Cases_Deaths_Tests_updated_with_FIPS.csv', index=False)"
   ]
  },
  {
   "cell_type": "markdown",
   "metadata": {},
   "source": [
    "### Vaccination data"
   ]
  },
  {
   "cell_type": "code",
   "execution_count": 18,
   "metadata": {},
   "outputs": [],
   "source": [
    "df=pd.read_csv(vacc_in_dir+'clean_covid19vaccinesbycounty v2.csv')\n",
    "df.rename(columns={'county':'County'}, inplace=True)\n",
    "df=df.merge(fips, on='County', how='left')\n",
    "df=df[['County', 'State', 'FIPS', 'administered_date', 'total_doses', 'partially_vaccinated',\n",
    "       'fully_vaccinated', 'at_least_one_dose', 'booster_recip_count']]\n",
    "df.to_csv(vacc_out_dir+'clean_covid-19_vaccines_by_county_with_FIPS.csv', index=False)"
   ]
  },
  {
   "cell_type": "code",
   "execution_count": 19,
   "metadata": {},
   "outputs": [],
   "source": [
    "df=pd.read_csv(vacc_in_dir+'covid19vaccinesbycounty.csv')\n",
    "df.rename(columns={'county':'County'}, inplace=True)\n",
    "df=df.merge(fips, on='County', how='left')\n",
    "df=df[['County', 'State', 'FIPS', 'administered_date', 'total_doses', 'cumulative_total_doses',\n",
    "       'pfizer_doses', 'cumulative_pfizer_doses', 'moderna_doses',\n",
    "       'cumulative_moderna_doses', 'jj_doses', 'cumulative_jj_doses',\n",
    "       'partially_vaccinated', 'total_partially_vaccinated',\n",
    "       'fully_vaccinated', 'cumulative_fully_vaccinated', 'at_least_one_dose',\n",
    "       'cumulative_at_least_one_dose', 'california_flag',\n",
    "       'booster_recip_count', 'cumulative_booster_recip_count']]\n",
    "df.to_csv(vacc_out_dir+'covid-19_vaccines_by_county_with_FIPS.csv', index=False)"
   ]
  },
  {
   "cell_type": "markdown",
   "metadata": {},
   "source": [
    "### Weather"
   ]
  },
  {
   "cell_type": "code",
   "execution_count": 21,
   "metadata": {},
   "outputs": [],
   "source": [
    "fips.rename(columns={'County':'COUNTY', 'State':'STATE'}, inplace=True)"
   ]
  },
  {
   "cell_type": "code",
   "execution_count": 22,
   "metadata": {},
   "outputs": [],
   "source": [
    "\n",
    "import os\n",
    "for filename in os.listdir(weather_in_dir):\n",
    "    if not filename.startswith('.'): # ignore hidden files\n",
    "        f = os.path.join(weather_in_dir, filename)\n",
    "        if os.path.isfile(f):\n",
    "            df=pd.read_csv(f)\n",
    "            df=df.merge(fips, on='COUNTY', how='left')\n",
    "            file = filename[:-4]\n",
    "            df.to_csv(weather_out_dir+file+'_with_FIPS.csv', index=False)"
   ]
  },
  {
   "cell_type": "code",
   "execution_count": null,
   "metadata": {},
   "outputs": [],
   "source": []
  }
 ],
 "metadata": {
  "interpreter": {
   "hash": "8bf545fee5244b87f8838516b4f261d3187914960dc9901da498b5b3355a3fd9"
  },
  "kernelspec": {
   "display_name": "Python 3.8.12 ('pythonProject')",
   "language": "python",
   "name": "python3"
  },
  "language_info": {
   "codemirror_mode": {
    "name": "ipython",
    "version": 3
   },
   "file_extension": ".py",
   "mimetype": "text/x-python",
   "name": "python",
   "nbconvert_exporter": "python",
   "pygments_lexer": "ipython3",
   "version": "3.8.12"
  },
  "orig_nbformat": 4
 },
 "nbformat": 4,
 "nbformat_minor": 2
}
